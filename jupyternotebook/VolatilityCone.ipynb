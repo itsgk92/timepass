{
 "cells": [
  {
   "cell_type": "code",
   "execution_count": 1,
   "id": "551f7f5a-1f11-4c43-9bc5-1ea078000369",
   "metadata": {},
   "outputs": [
    {
     "ename": "ModuleNotFoundError",
     "evalue": "No module named 'nsepython'",
     "output_type": "error",
     "traceback": [
      "\u001b[1;31m---------------------------------------------------------------------------\u001b[0m",
      "\u001b[1;31mModuleNotFoundError\u001b[0m                       Traceback (most recent call last)",
      "Cell \u001b[1;32mIn[1], line 1\u001b[0m\n\u001b[1;32m----> 1\u001b[0m \u001b[38;5;28;01mimport\u001b[39;00m\u001b[38;5;250m \u001b[39m\u001b[38;5;21;01mnsepython\u001b[39;00m\u001b[38;5;250m \u001b[39m\u001b[38;5;28;01mas\u001b[39;00m\u001b[38;5;250m \u001b[39m\u001b[38;5;21;01mnse\u001b[39;00m\n\u001b[0;32m      2\u001b[0m \u001b[38;5;28;01mimport\u001b[39;00m\u001b[38;5;250m \u001b[39m\u001b[38;5;21;01mpandas\u001b[39;00m\u001b[38;5;250m \u001b[39m\u001b[38;5;28;01mas\u001b[39;00m\u001b[38;5;250m \u001b[39m\u001b[38;5;21;01mpd\u001b[39;00m\n\u001b[0;32m      3\u001b[0m \u001b[38;5;28;01mfrom\u001b[39;00m\u001b[38;5;250m \u001b[39m\u001b[38;5;21;01mdatetime\u001b[39;00m\u001b[38;5;250m \u001b[39m\u001b[38;5;28;01mimport\u001b[39;00m datetime, timedelta\n",
      "\u001b[1;31mModuleNotFoundError\u001b[0m: No module named 'nsepython'"
     ]
    }
   ],
   "source": [
    "import nsepython as nse\n",
    "import pandas as pd\n",
    "from datetime import datetime, timedelta\n",
    "import numpy as np\n",
    "import math"
   ]
  },
  {
   "cell_type": "code",
   "execution_count": null,
   "id": "65671dde-f1c5-46a8-98fd-dfdf5451f3e7",
   "metadata": {},
   "outputs": [],
   "source": [
    "Underlying = \"wipro\"\n",
    "Index = \"NIFTY 50\"\n",
    "ref_date = datetime.now()\n",
    "#ref_date = datetime.strptime('31-03-2012', \"%d-%m-%Y\")"
   ]
  },
  {
   "cell_type": "code",
   "execution_count": null,
   "id": "56b71eec-bf54-4aee-902b-7731d74fa61d",
   "metadata": {},
   "outputs": [],
   "source": [
    "today = ref_date.strftime(\"%d-%m-%Y\")\n",
    "oneYearAgo = (ref_date-timedelta(days=365)).strftime(\"%d-%m-%Y\")\n",
    "oneYear3MonthsAgo = (ref_date-timedelta(days=455)).strftime(\"%d-%m-%Y\")\n",
    "today_mmm = ref_date.strftime(\"%d-%b-%Y\")\n",
    "oneYearAgo_mmm = (ref_date-timedelta(days=365)).strftime(\"%d-%b-%Y\")\n",
    "oneYear3MonthsAgo_mmm = (ref_date-timedelta(days=455)).strftime(\"%d-%b-%Y\")"
   ]
  },
  {
   "cell_type": "code",
   "execution_count": null,
   "id": "17fa9a00-0788-4f61-b3c5-f9f0e2919f2d",
   "metadata": {},
   "outputs": [],
   "source": [
    "today,oneYearAgo, oneYear3MonthsAgo_mmm"
   ]
  },
  {
   "cell_type": "code",
   "execution_count": null,
   "id": "9b279a27-0f8e-4480-a4e4-bc6aa81e1474",
   "metadata": {},
   "outputs": [],
   "source": [
    "expiry_dates = nse.expiry_history(Underlying, oneYear3MonthsAgo, today)\n",
    "expiry_dates[:10]"
   ]
  },
  {
   "cell_type": "code",
   "execution_count": null,
   "id": "dec9c1fb-b46f-4ef6-96e7-b023180f2b8b",
   "metadata": {},
   "outputs": [],
   "source": [
    "candle = nse.index_history(\"NIFTY 50\", oneYear3MonthsAgo_mmm, today_mmm)\n",
    "#candle\n",
    "tcscandle = nse.equity_history(Underlying,\"EQ\",oneYear3MonthsAgo ,today)\n",
    "tcscandle[\"TIMESTAMP\"] = pd.to_datetime(tcscandle[\"TIMESTAMP\"])\n",
    "tcscandle.sort_values(by='TIMESTAMP', ascending = True, inplace = True)\n",
    "tcscandle"
   ]
  },
  {
   "cell_type": "code",
   "execution_count": null,
   "id": "75cbe61e-5b84-47db-949a-5b9f050c687b",
   "metadata": {},
   "outputs": [],
   "source": [
    "candle[\"HistoricalDate\"] = pd.to_datetime(candle[\"HistoricalDate\"])\n",
    "candle.CLOSE = candle.CLOSE.astype(float)\n",
    "candle.sort_values(by='HistoricalDate', ascending = True, inplace = True)\n",
    "candle.set_index('HistoricalDate')\n",
    "candle['dailyret'] = np.log(candle.CLOSE/candle.CLOSE.shift(1))\n",
    "candle\n",
    "\n",
    "\n",
    "tcscandle[\"TIMESTAMP\"] = pd.to_datetime(tcscandle[\"TIMESTAMP\"])\n",
    "tcscandle.sort_values(by='TIMESTAMP', ascending = True, inplace = True)\n",
    "tcscandle['dailyret'] = (np.log(tcscandle.CH_CLOSING_PRICE/tcscandle.CH_CLOSING_PRICE.shift(1)))"
   ]
  },
  {
   "cell_type": "code",
   "execution_count": null,
   "id": "4c8ce908-932b-4a53-889e-be3cda78f9a8",
   "metadata": {},
   "outputs": [],
   "source": [
    "selected_expiry = expiry_dates[9]\n",
    "tenDayPriorexpiry = (datetime.strptime(selected_expiry, '%d-%b-%Y')-timedelta(days=10)).strftime(\"%d-%b-%Y\")\n",
    "#selectwindow = (candle['HistoricalDate'] > tenDayPriorexpiry) & (candle['HistoricalDate'] <= selected_expiry)\n",
    "#selected_expiry, tenDayPriorexpiry\n",
    "selected_expiry"
   ]
  },
  {
   "cell_type": "code",
   "execution_count": null,
   "id": "412daf67-677c-42b8-9e1b-e14f9b0bcfae",
   "metadata": {},
   "outputs": [],
   "source": [
    "#window = candle.loc[selectwindow]\n",
    "window = candle[candle['HistoricalDate'] <= selected_expiry].tail(10)\n",
    "window_dailyret = window.dailyret\n",
    "window\n",
    "\n",
    "tcswindow = tcscandle[tcscandle['TIMESTAMP'] <= selected_expiry].tail(10)\n",
    "tcswindow"
   ]
  },
  {
   "cell_type": "code",
   "execution_count": null,
   "id": "9866a2b1-41e3-4502-9da0-5afa08c42c50",
   "metadata": {},
   "outputs": [],
   "source": [
    "window_volatility_pct = window.dailyret.std()\n",
    "ann_window_vol_pct = window_volatility_pct * math.sqrt(252)\n",
    "#window_volatility_pct, ann_window_vol_pct"
   ]
  },
  {
   "cell_type": "code",
   "execution_count": null,
   "id": "5102956e-a315-4c06-95ab-4b91a9a5198f",
   "metadata": {},
   "outputs": [],
   "source": [
    "type(window_volatility_pct)"
   ]
  },
  {
   "cell_type": "code",
   "execution_count": null,
   "id": "061ba69d-7173-4748-ac5d-cde49708927f",
   "metadata": {},
   "outputs": [],
   "source": [
    "tcs_window_volatility_pct = tcswindow.dailyret.std()\n",
    "tcs_ann_window_vol_pct = tcs_window_volatility_pct * math.sqrt(252)\n",
    "selected_expiry, tcs_window_volatility_pct, tcs_ann_window_vol_pct"
   ]
  },
  {
   "cell_type": "code",
   "execution_count": null,
   "id": "65e885ed-06d8-4ca2-9417-2d639c856da5",
   "metadata": {},
   "outputs": [],
   "source": [
    "candle['Realized Volatility'] = candle['dailyret'].rolling(window=10).std() * np.sqrt(252)"
   ]
  },
  {
   "cell_type": "code",
   "execution_count": null,
   "id": "2681c732-e467-4e11-b149-6d1b81e1aa0a",
   "metadata": {},
   "outputs": [],
   "source": [
    "window = candle[candle['HistoricalDate'] <= selected_expiry].tail(90)"
   ]
  },
  {
   "cell_type": "code",
   "execution_count": null,
   "id": "ff7eb3e8-bc71-4c88-a448-107e06e0aa87",
   "metadata": {},
   "outputs": [],
   "source": [
    "window"
   ]
  },
  {
   "cell_type": "code",
   "execution_count": null,
   "id": "68a9af9b-c1c8-4c01-bd36-765d338337ee",
   "metadata": {},
   "outputs": [],
   "source": []
  },
  {
   "cell_type": "code",
   "execution_count": null,
   "id": "85200366-bfb3-43f5-8fd7-398c3384cb83",
   "metadata": {},
   "outputs": [],
   "source": []
  },
  {
   "cell_type": "code",
   "execution_count": null,
   "id": "172210c6-697e-4f17-b876-e7bee43c05b5",
   "metadata": {},
   "outputs": [],
   "source": []
  }
 ],
 "metadata": {
  "kernelspec": {
   "display_name": "Python 3 (ipykernel)",
   "language": "python",
   "name": "python3"
  },
  "language_info": {
   "codemirror_mode": {
    "name": "ipython",
    "version": 3
   },
   "file_extension": ".py",
   "mimetype": "text/x-python",
   "name": "python",
   "nbconvert_exporter": "python",
   "pygments_lexer": "ipython3",
   "version": "3.9.9"
  }
 },
 "nbformat": 4,
 "nbformat_minor": 5
}
